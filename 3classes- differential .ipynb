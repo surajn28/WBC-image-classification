{
 "cells": [
  {
   "cell_type": "code",
   "execution_count": 1,
   "metadata": {},
   "outputs": [],
   "source": [
    "from __future__ import absolute_import, division, print_function, unicode_literals\n",
    "\n",
    "import tensorflow as tf\n",
    "\n",
    "from tensorflow.python.keras import backend as k\n",
    "\n",
    "from tensorflow.keras.models import Sequential\n",
    "\n",
    "from tensorflow.keras.layers import Dense, Conv2D, Flatten, Dropout, MaxPooling2D\n",
    "\n",
    "from tensorflow.keras.preprocessing.image import ImageDataGenerator\n",
    "\n",
    "import os\n",
    "\n",
    "import numpy as np\n",
    "\n",
    "import matplotlib.pyplot as plt\n",
    "\n",
    "import pandas as pd\n",
    "\n",
    "import cv2 as cv\n",
    "\n",
    "import seaborn as sns"
   ]
  },
  {
   "cell_type": "code",
   "execution_count": 74,
   "metadata": {},
   "outputs": [],
   "source": [
    "PATH = os.path.join('E:\\sample diff')"
   ]
  },
  {
   "cell_type": "code",
   "execution_count": 75,
   "metadata": {},
   "outputs": [],
   "source": [
    "train_dir = os.path.join(PATH, 'Train 3classes')\n",
    "validation_dir = os.path.join(PATH, 'Val 3classes')"
   ]
  },
  {
   "cell_type": "code",
   "execution_count": 76,
   "metadata": {},
   "outputs": [],
   "source": [
    "Train_Set=\"E:\\sample diff\\Train 3classes\"\n",
    "Val_Set=\"E:\\sample diff\\Val 3classes\"\n",
    "\n",
    "\n",
    "#Categroized images\n",
    "#4 types of subCategories\n",
    "\n",
    "CATEGORIES=[\"Eosinophil\",\"Lymphocyte\",\"Neutrophil\"]"
   ]
  },
  {
   "cell_type": "code",
   "execution_count": 77,
   "metadata": {},
   "outputs": [],
   "source": [
    "train_image_generator = ImageDataGenerator(rescale=1./255) # Generator for our training data\n",
    "validation_image_generator = ImageDataGenerator(rescale=1./255) # Generator for our validation data"
   ]
  },
  {
   "cell_type": "code",
   "execution_count": 78,
   "metadata": {},
   "outputs": [],
   "source": [
    "batch_size = 32\n",
    "epochs = 15\n",
    "IMG_HEIGHT = 48\n",
    "IMG_WIDTH = 48"
   ]
  },
  {
   "cell_type": "code",
   "execution_count": 79,
   "metadata": {},
   "outputs": [
    {
     "name": "stdout",
     "output_type": "stream",
     "text": [
      "Found 15863 images belonging to 3 classes.\n"
     ]
    }
   ],
   "source": [
    "train_data_gen = train_image_generator.flow_from_directory(batch_size=batch_size,\n",
    "                                                           directory=train_dir,\n",
    "                                                           shuffle=True,\n",
    "                                                           target_size=(IMG_HEIGHT, IMG_WIDTH),\n",
    "                                                           class_mode='binary')"
   ]
  },
  {
   "cell_type": "code",
   "execution_count": 80,
   "metadata": {},
   "outputs": [
    {
     "name": "stdout",
     "output_type": "stream",
     "text": [
      "Found 1092 images belonging to 3 classes.\n"
     ]
    }
   ],
   "source": [
    "val_data_gen = validation_image_generator.flow_from_directory(batch_size=batch_size,\n",
    "                                                              directory=validation_dir,\n",
    "                                                              target_size=(IMG_HEIGHT, IMG_WIDTH),\n",
    "                                                              class_mode='binary')"
   ]
  },
  {
   "cell_type": "code",
   "execution_count": 81,
   "metadata": {},
   "outputs": [],
   "source": [
    "Train_Data=[]\n",
    "import cv2 as cv\n",
    "for category in CATEGORIES:\n",
    "       \n",
    "        #each cateogry into unique integer\n",
    "        label=CATEGORIES.index(category)\n",
    "        path=os.path.join(Train_Set,category)\n",
    "        \n",
    "        for img_file in os.listdir(path):\n",
    "            img=cv.imread(os.path.join(path,img_file),1) ## 0-for Greyscale ,, 1--for RGB...\n",
    "            #img = tf.image.rgb_to_grayscale(img, name=None)\n",
    "            Train_Data.append([img,label])"
   ]
  },
  {
   "cell_type": "code",
   "execution_count": 82,
   "metadata": {},
   "outputs": [],
   "source": [
    "Test_Data=[]\n",
    "\n",
    "for category in CATEGORIES:\n",
    "       \n",
    "        #each cateogry into unique integer\n",
    "        label=CATEGORIES.index(category)\n",
    "        path=os.path.join(Val_Set,category)\n",
    "        \n",
    "        for img_file in os.listdir(path):\n",
    "            img=cv.imread(os.path.join(path,img_file),1)\n",
    "            #img = tf.image.rgb_to_grayscale(img, name=None)\n",
    "            Test_Data.append([img,label])"
   ]
  },
  {
   "cell_type": "code",
   "execution_count": 83,
   "metadata": {},
   "outputs": [
    {
     "name": "stdout",
     "output_type": "stream",
     "text": [
      "15863\n",
      "1092\n"
     ]
    }
   ],
   "source": [
    "print(len(Train_Data))\n",
    "print(len(Test_Data))"
   ]
  },
  {
   "cell_type": "code",
   "execution_count": 84,
   "metadata": {},
   "outputs": [],
   "source": [
    "import random\n",
    "\n",
    "random.shuffle(Train_Data)\n"
   ]
  },
  {
   "cell_type": "code",
   "execution_count": 85,
   "metadata": {},
   "outputs": [
    {
     "name": "stdout",
     "output_type": "stream",
     "text": [
      "2\n",
      "1\n",
      "2\n",
      "2\n",
      "2\n",
      "1\n",
      "2\n",
      "2\n",
      "1\n",
      "2\n"
     ]
    }
   ],
   "source": [
    "for lbl in Train_Data[:10]:\n",
    "    print(lbl[1])"
   ]
  },
  {
   "cell_type": "code",
   "execution_count": 86,
   "metadata": {},
   "outputs": [
    {
     "data": {
      "text/plain": [
       "(15863, 15863)"
      ]
     },
     "execution_count": 86,
     "metadata": {},
     "output_type": "execute_result"
    }
   ],
   "source": [
    "train_X=[]\n",
    "train_y=[]\n",
    "\n",
    "for features,label in Train_Data:\n",
    "    train_X.append(features)\n",
    "    train_y.append(label)\n",
    "\n",
    "len(train_X),len(train_y)"
   ]
  },
  {
   "cell_type": "code",
   "execution_count": 87,
   "metadata": {},
   "outputs": [
    {
     "data": {
      "text/plain": [
       "(1092, 1092)"
      ]
     },
     "execution_count": 87,
     "metadata": {},
     "output_type": "execute_result"
    }
   ],
   "source": [
    "#lets seprate the feature and target variable\n",
    "test_X=[]\n",
    "test_y=[]\n",
    "\n",
    "for features,label in Test_Data:\n",
    "    test_X.append(features)\n",
    "    test_y.append(label)\n",
    "\n",
    "len(test_X),len(test_y)"
   ]
  },
  {
   "cell_type": "code",
   "execution_count": 88,
   "metadata": {},
   "outputs": [
    {
     "data": {
      "text/plain": [
       "(15863, 48, 48, 3)"
      ]
     },
     "execution_count": 88,
     "metadata": {},
     "output_type": "execute_result"
    }
   ],
   "source": [
    "\n",
    "train_X=np.array(train_X).reshape(-1,48,48,3)\n",
    "train_X=train_X/255.0\n",
    "train_X.shape"
   ]
  },
  {
   "cell_type": "code",
   "execution_count": 89,
   "metadata": {},
   "outputs": [
    {
     "data": {
      "text/plain": [
       "(1092, 48, 48, 3)"
      ]
     },
     "execution_count": 89,
     "metadata": {},
     "output_type": "execute_result"
    }
   ],
   "source": [
    "test_X=np.array(test_X).reshape(-1,48,48,3)\n",
    "test_X=test_X/255.0\n",
    "test_X.shape"
   ]
  },
  {
   "cell_type": "code",
   "execution_count": 90,
   "metadata": {},
   "outputs": [],
   "source": [
    "import pandas as pd\n",
    "import cv2 as cv\n",
    "import numpy as np\n",
    "import matplotlib.pyplot as plt\n",
    "import os\n",
    "import seaborn as sns"
   ]
  },
  {
   "cell_type": "code",
   "execution_count": 91,
   "metadata": {},
   "outputs": [
    {
     "data": {
      "text/plain": [
       "<matplotlib.axes._subplots.AxesSubplot at 0x1eecf359128>"
      ]
     },
     "execution_count": 91,
     "metadata": {},
     "output_type": "execute_result"
    },
    {
     "data": {
      "image/png": "[encoded data removed]",
      "text/plain": [
       "<Figure size 432x288 with 1 Axes>"
      ]
     },
     "metadata": {
      "needs_background": "light"
     },
     "output_type": "display_data"
    }
   ],
   "source": [
    "sns.countplot(train_y,palette='Set3')"
   ]
  },
  {
   "cell_type": "code",
   "execution_count": 92,
   "metadata": {},
   "outputs": [
    {
     "data": {
      "text/plain": [
       "array([[0., 0., 1.],\n",
       "       [0., 1., 0.],\n",
       "       [0., 0., 1.],\n",
       "       ...,\n",
       "       [0., 1., 0.],\n",
       "       [0., 1., 0.],\n",
       "       [0., 0., 1.]], dtype=float32)"
      ]
     },
     "execution_count": 92,
     "metadata": {},
     "output_type": "execute_result"
    }
   ],
   "source": [
    "from keras.utils import to_categorical\n",
    "#train y\n",
    "one_hot_train=to_categorical(train_y)\n",
    "one_hot_train"
   ]
  },
  {
   "cell_type": "code",
   "execution_count": 93,
   "metadata": {},
   "outputs": [
    {
     "data": {
      "text/plain": [
       "array([[1., 0., 0.],\n",
       "       [1., 0., 0.],\n",
       "       [1., 0., 0.],\n",
       "       ...,\n",
       "       [0., 0., 1.],\n",
       "       [0., 0., 1.],\n",
       "       [0., 0., 1.]], dtype=float32)"
      ]
     },
     "execution_count": 93,
     "metadata": {},
     "output_type": "execute_result"
    }
   ],
   "source": [
    "one_hot_test=to_categorical(test_y)\n",
    "one_hot_test"
   ]
  },
  {
   "cell_type": "code",
   "execution_count": 94,
   "metadata": {},
   "outputs": [],
   "source": [
    "from keras.models import Sequential\n",
    "from keras.layers import Dense, Conv2D, Dropout, MaxPool2D, Flatten,BatchNormalization\n",
    "from keras.applications import vgg16 \n",
    "from keras.layers import AveragePooling2D\n",
    "from keras.preprocessing import image"
   ]
  },
  {
   "cell_type": "code",
   "execution_count": 95,
   "metadata": {},
   "outputs": [],
   "source": [
    "model = Sequential()\n",
    "model.add(Conv2D(32, (3,3), strides = (1, 1), activation = 'relu', input_shape = (48, 48, 3)))\n",
    "model.add(MaxPool2D(pool_size = (2,2)))\n",
    "##model.add(Dropout(0.1))\n",
    "\n",
    "model.add(Conv2D(64, (3,3), strides = (1, 1), activation = 'relu'))\n",
    "model.add(MaxPool2D(pool_size = (2,2)))\n",
    "#model.add(Dropout(0.3))\n",
    "\n",
    "model.add(Conv2D(128, (3,3), strides = (1,1), activation = 'relu'))\n",
    "#model.add(Conv2D(256, (3,3), strides = (1, 1), activation = 'relu'))\n",
    "model.add(Dropout(0.5))\n",
    "\n",
    "model.add(Flatten())\n",
    "\n",
    "model.add(Dense(1024, activation = 'relu'))\n",
    "#model.add(BatchNormalization())\n",
    "model.add(Dropout(0.4))\n",
    "model.add(Dense(512, activation = 'relu'))\n",
    "#model.add(Dropout(0.1))\n",
    "model.add(Dense(3, activation = 'softmax'))\n",
    "\n",
    "model.compile(loss = 'categorical_crossentropy', optimizer = 'adam', metrics = ['accuracy'])"
   ]
  },
  {
   "cell_type": "code",
   "execution_count": 96,
   "metadata": {},
   "outputs": [
    {
     "name": "stdout",
     "output_type": "stream",
     "text": [
      "_________________________________________________________________\n",
      "Layer (type)                 Output Shape              Param #   \n",
      "=================================================================\n",
      "conv2d_7 (Conv2D)            (None, 46, 46, 32)        896       \n",
      "_________________________________________________________________\n",
      "max_pooling2d_5 (MaxPooling2 (None, 23, 23, 32)        0         \n",
      "_________________________________________________________________\n",
      "conv2d_8 (Conv2D)            (None, 21, 21, 64)        18496     \n",
      "_________________________________________________________________\n",
      "max_pooling2d_6 (MaxPooling2 (None, 10, 10, 64)        0         \n",
      "_________________________________________________________________\n",
      "conv2d_9 (Conv2D)            (None, 8, 8, 128)         73856     \n",
      "_________________________________________________________________\n",
      "dropout_5 (Dropout)          (None, 8, 8, 128)         0         \n",
      "_________________________________________________________________\n",
      "flatten_3 (Flatten)          (None, 8192)              0         \n",
      "_________________________________________________________________\n",
      "dense_7 (Dense)              (None, 1024)              8389632   \n",
      "_________________________________________________________________\n",
      "dropout_6 (Dropout)          (None, 1024)              0         \n",
      "_________________________________________________________________\n",
      "dense_8 (Dense)              (None, 512)               524800    \n",
      "_________________________________________________________________\n",
      "dense_9 (Dense)              (None, 3)                 1539      \n",
      "=================================================================\n",
      "Total params: 9,009,219\n",
      "Trainable params: 9,009,219\n",
      "Non-trainable params: 0\n",
      "_________________________________________________________________\n"
     ]
    }
   ],
   "source": [
    "model.summary()"
   ]
  },
  {
   "cell_type": "code",
   "execution_count": 97,
   "metadata": {
    "scrolled": false
   },
   "outputs": [
    {
     "name": "stdout",
     "output_type": "stream",
     "text": [
      "Train on 15863 samples, validate on 1092 samples\n",
      "Epoch 1/30\n",
      "15863/15863 [==============================] - 12s 733us/step - loss: 0.5053 - acc: 0.7666 - val_loss: 0.3371 - val_acc: 0.8727\n",
      "Epoch 2/30\n",
      "15863/15863 [==============================] - 10s 638us/step - loss: 0.2192 - acc: 0.9204 - val_loss: 0.2904 - val_acc: 0.8864\n",
      "Epoch 3/30\n",
      "15863/15863 [==============================] - 10s 639us/step - loss: 0.1858 - acc: 0.9329 - val_loss: 0.1654 - val_acc: 0.9322\n",
      "Epoch 4/30\n",
      "15863/15863 [==============================] - 10s 639us/step - loss: 0.1678 - acc: 0.9390 - val_loss: 0.1513 - val_acc: 0.9405\n",
      "Epoch 5/30\n",
      "15863/15863 [==============================] - 10s 638us/step - loss: 0.1489 - acc: 0.9482 - val_loss: 0.1463 - val_acc: 0.9469\n",
      "Epoch 6/30\n",
      "15863/15863 [==============================] - 10s 642us/step - loss: 0.1276 - acc: 0.9546 - val_loss: 0.1200 - val_acc: 0.9588\n",
      "Epoch 7/30\n",
      "15863/15863 [==============================] - 10s 647us/step - loss: 0.1219 - acc: 0.9570 - val_loss: 0.1507 - val_acc: 0.9396\n",
      "Epoch 8/30\n",
      "15863/15863 [==============================] - 10s 639us/step - loss: 0.1167 - acc: 0.9581 - val_loss: 0.1329 - val_acc: 0.9469\n",
      "Epoch 9/30\n",
      "15863/15863 [==============================] - 10s 641us/step - loss: 0.1122 - acc: 0.9613 - val_loss: 0.2440 - val_acc: 0.9121\n",
      "Epoch 10/30\n",
      "15863/15863 [==============================] - 10s 641us/step - loss: 0.1087 - acc: 0.9597 - val_loss: 0.1053 - val_acc: 0.9679 loss: 0\n",
      "Epoch 11/30\n",
      "15863/15863 [==============================] - 10s 642us/step - loss: 0.0998 - acc: 0.9648 - val_loss: 0.1368 - val_acc: 0.9551\n",
      "Epoch 12/30\n",
      "15863/15863 [==============================] - 10s 630us/step - loss: 0.1000 - acc: 0.9634 - val_loss: 0.1058 - val_acc: 0.9625\n",
      "Epoch 13/30\n",
      "15863/15863 [==============================] - 10s 630us/step - loss: 0.0964 - acc: 0.9657 - val_loss: 0.1045 - val_acc: 0.9643\n",
      "Epoch 14/30\n",
      "15863/15863 [==============================] - 10s 629us/step - loss: 0.0877 - acc: 0.9687 - val_loss: 0.1231 - val_acc: 0.9524\n",
      "Epoch 15/30\n",
      "15863/15863 [==============================] - 11s 697us/step - loss: 0.0930 - acc: 0.9676 - val_loss: 0.1158 - val_acc: 0.9570\n",
      "Epoch 16/30\n",
      "15863/15863 [==============================] - 10s 630us/step - loss: 0.0813 - acc: 0.9716 - val_loss: 0.1008 - val_acc: 0.9643\n",
      "Epoch 17/30\n",
      "15863/15863 [==============================] - 10s 628us/step - loss: 0.0867 - acc: 0.9694 - val_loss: 0.0971 - val_acc: 0.9625\n",
      "Epoch 18/30\n",
      "15863/15863 [==============================] - 10s 629us/step - loss: 0.0833 - acc: 0.9699 - val_loss: 0.0858 - val_acc: 0.9707\n",
      "Epoch 19/30\n",
      "15863/15863 [==============================] - 10s 636us/step - loss: 0.0780 - acc: 0.9711 - val_loss: 0.0944 - val_acc: 0.9643\n",
      "Epoch 20/30\n",
      "15863/15863 [==============================] - 10s 647us/step - loss: 0.0783 - acc: 0.9715 - val_loss: 0.0975 - val_acc: 0.9652\n",
      "Epoch 21/30\n",
      "15863/15863 [==============================] - 11s 687us/step - loss: 0.0745 - acc: 0.9726 - val_loss: 0.0950 - val_acc: 0.9652\n",
      "Epoch 22/30\n",
      "15863/15863 [==============================] - 10s 633us/step - loss: 0.0741 - acc: 0.9732 - val_loss: 0.0935 - val_acc: 0.9625\n",
      "Epoch 23/30\n",
      "15863/15863 [==============================] - 10s 629us/step - loss: 0.0729 - acc: 0.9744 - val_loss: 0.1091 - val_acc: 0.9634\n",
      "Epoch 24/30\n",
      "15863/15863 [==============================] - 10s 622us/step - loss: 0.0690 - acc: 0.9748 - val_loss: 0.0929 - val_acc: 0.9670\n",
      "Epoch 25/30\n",
      "15863/15863 [==============================] - 10s 621us/step - loss: 0.0694 - acc: 0.9761 - val_loss: 0.1037 - val_acc: 0.9670\n",
      "Epoch 26/30\n",
      "15863/15863 [==============================] - 10s 624us/step - loss: 0.0654 - acc: 0.9773 - val_loss: 0.0877 - val_acc: 0.9734\n",
      "Epoch 27/30\n",
      "15863/15863 [==============================] - 10s 620us/step - loss: 0.0638 - acc: 0.9772 - val_loss: 0.0902 - val_acc: 0.9679\n",
      "Epoch 28/30\n",
      "15863/15863 [==============================] - 10s 623us/step - loss: 0.0662 - acc: 0.9757 - val_loss: 0.1229 - val_acc: 0.9643\n",
      "Epoch 29/30\n",
      "15863/15863 [==============================] - 10s 620us/step - loss: 0.0578 - acc: 0.9777 - val_loss: 0.0888 - val_acc: 0.9716\n",
      "Epoch 30/30\n",
      "15863/15863 [==============================] - 10s 621us/step - loss: 0.0598 - acc: 0.9786 - val_loss: 0.1075 - val_acc: 0.9670\n"
     ]
    }
   ],
   "source": [
    "hist=model.fit(train_X,one_hot_train,epochs=30,batch_size=32,validation_data=(test_X,one_hot_test))"
   ]
  },
  {
   "cell_type": "code",
   "execution_count": 98,
   "metadata": {},
   "outputs": [
    {
     "data": {
      "image/png": "[encoded data removed]",
      "text/plain": [
       "<Figure size 432x288 with 1 Axes>"
      ]
     },
     "metadata": {
      "needs_background": "light"
     },
     "output_type": "display_data"
    }
   ],
   "source": [
    "#train and validation loss\n",
    "plt.plot(hist.history['loss'])\n",
    "plt.plot(hist.history['val_loss'])\n",
    "plt.title('Model Loss')\n",
    "plt.ylabel('Loss')\n",
    "plt.xlabel('Epoch')\n",
    "plt.legend(['train','Validation'],loc='upper left')\n",
    "plt.show()"
   ]
  },
  {
   "cell_type": "code",
   "execution_count": 99,
   "metadata": {},
   "outputs": [
    {
     "data": {
      "image/png": "[encoded data removed]",
      "text/plain": [
       "<Figure size 432x288 with 1 Axes>"
      ]
     },
     "metadata": {
      "needs_background": "light"
     },
     "output_type": "display_data"
    }
   ],
   "source": [
    "#train and validation accuracy\n",
    "plt.plot(hist.history['acc'])\n",
    "plt.plot(hist.history['val_acc'])\n",
    "plt.title('Model Accuracy')\n",
    "plt.ylabel('Accuracy')\n",
    "plt.xlabel('Epoch')\n",
    "plt.legend(['train','Validation'],loc='upper left')\n",
    "plt.show()"
   ]
  },
  {
   "cell_type": "code",
   "execution_count": 100,
   "metadata": {},
   "outputs": [],
   "source": [
    "y_pred=model.predict_classes(test_X)"
   ]
  },
  {
   "cell_type": "code",
   "execution_count": 101,
   "metadata": {},
   "outputs": [
    {
     "data": {
      "text/plain": [
       "0.967032967032967"
      ]
     },
     "execution_count": 101,
     "metadata": {},
     "output_type": "execute_result"
    }
   ],
   "source": [
    "#accuracy_score\n",
    "from sklearn.metrics import accuracy_score,confusion_matrix\n",
    "accuracy_score(test_y,y_pred)\n"
   ]
  },
  {
   "cell_type": "code",
   "execution_count": 102,
   "metadata": {},
   "outputs": [
    {
     "data": {
      "text/plain": [
       "<matplotlib.axes._subplots.AxesSubplot at 0x1ed62b40d30>"
      ]
     },
     "execution_count": 102,
     "metadata": {},
     "output_type": "execute_result"
    },
    {
     "data": {
      "image/png": "[encoded data removed]",
      "text/plain": [
       "<Figure size 432x288 with 2 Axes>"
      ]
     },
     "metadata": {
      "needs_background": "light"
     },
     "output_type": "display_data"
    }
   ],
   "source": [
    "sns.heatmap(confusion_matrix(test_y,y_pred))"
   ]
  },
  {
   "cell_type": "code",
   "execution_count": 103,
   "metadata": {},
   "outputs": [],
   "source": [
    "def plot_confusion_matrix(cm, classes,\n",
    "                          normalize=False,\n",
    "                          title='Confusion matrix',\n",
    "                          cmap=plt.cm.Blues):\n",
    "  \"\"\"\n",
    "  This function prints and plots the confusion matrix.\n",
    "  Normalization can be applied by setting `normalize=True`.\n",
    "  \"\"\"\n",
    "  if normalize:\n",
    "      cm = cm.astype('float') / cm.sum(axis=1)[:, np.newaxis]\n",
    "      cm = cm * 100\n",
    "      print(\"\\nNormalized confusion matrix\")\n",
    "  else:\n",
    "      print('\\nConfusion matrix, without normalization')\n",
    "  print(cm)\n",
    "  print ()\n",
    "\n",
    "  plt.imshow(cm, interpolation='nearest', cmap=cmap)\n",
    "  plt.title(title)\n",
    "  plt.colorbar()\n",
    "  tick_marks = np.arange(len(classes))\n",
    "  plt.xticks(tick_marks, classes, rotation=45)\n",
    "  plt.yticks(tick_marks, classes)\n",
    "\n",
    "  fmt = '.0f' if normalize else 'd'\n",
    "  thresh = cm.max() / 2.\n",
    "  for i, j in itertools.product(range(cm.shape[0]), range(cm.shape[1])):\n",
    "      plt.text(j, i, format(cm[i, j], fmt),\n",
    "                horizontalalignment=\"center\",\n",
    "                color=\"white\" if cm[i, j] > thresh else \"black\")\n",
    "\n",
    "  plt.tight_layout()\n",
    "  plt.ylabel('True label')\n",
    "  plt.xlabel('Predicted label')\n",
    "  plt.show()\n"
   ]
  },
  {
   "cell_type": "code",
   "execution_count": 104,
   "metadata": {},
   "outputs": [],
   "source": [
    "\n",
    "y_pred=model.predict_classes(test_X)\n",
    "cnf_matrix = confusion_matrix(test_y, y_pred)\n",
    "np.set_printoptions(precision=2) # set NumPy to 2 decimal places"
   ]
  },
  {
   "cell_type": "code",
   "execution_count": 105,
   "metadata": {},
   "outputs": [],
   "source": [
    "import itertools"
   ]
  },
  {
   "cell_type": "code",
   "execution_count": 106,
   "metadata": {},
   "outputs": [
    {
     "name": "stdout",
     "output_type": "stream",
     "text": [
      "\n",
      "Confusion matrix, without normalization\n",
      "[[104   0   3]\n",
      " [  0 450   6]\n",
      " [  1  26 502]]\n",
      "\n"
     ]
    },
    {
     "data": {
      "image/png": "[encoded data removed]",
      "text/plain": [
       "<Figure size 432x288 with 2 Axes>"
      ]
     },
     "metadata": {
      "needs_background": "light"
     },
     "output_type": "display_data"
    }
   ],
   "source": [
    "plt.figure()\n",
    "plot_confusion_matrix(cnf_matrix, classes=[0,1,2,3])"
   ]
  },
  {
   "cell_type": "code",
   "execution_count": 107,
   "metadata": {
    "scrolled": false
   },
   "outputs": [
    {
     "name": "stdout",
     "output_type": "stream",
     "text": [
      "\n",
      "Normalized confusion matrix\n",
      "[[97.2   0.    2.8 ]\n",
      " [ 0.   98.68  1.32]\n",
      " [ 0.19  4.91 94.9 ]]\n",
      "\n"
     ]
    },
    {
     "data": {
      "image/png": "[encoded data removed]",
      "text/plain": [
       "<Figure size 432x288 with 2 Axes>"
      ]
     },
     "metadata": {
      "needs_background": "light"
     },
     "output_type": "display_data"
    }
   ],
   "source": [
    "plt.figure()\n",
    "plot_confusion_matrix(cnf_matrix, classes=[0,1,2,3], normalize=True,\n",
    "                      title='Normalized confusion matrix')          #-----------------to excel for comparision "
   ]
  },
  {
   "cell_type": "code",
   "execution_count": 108,
   "metadata": {},
   "outputs": [],
   "source": [
    "model.save('19th_may_3class_diff_best1.h5')"
   ]
  },
  {
   "cell_type": "code",
   "execution_count": null,
   "metadata": {},
   "outputs": [],
   "source": []
  }
 ],
 "metadata": {
  "kernelspec": {
   "display_name": "Python 3",
   "language": "python",
   "name": "python3"
  },
  "language_info": {
   "codemirror_mode": {
    "name": "ipython",
    "version": 3
   },
   "file_extension": ".py",
   "mimetype": "text/x-python",
   "name": "python",
   "nbconvert_exporter": "python",
   "pygments_lexer": "ipython3",
   "version": "3.6.10"
  }
 },
 "nbformat": 4,
 "nbformat_minor": 4
}
